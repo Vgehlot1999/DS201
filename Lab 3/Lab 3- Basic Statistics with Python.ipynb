{
 "cells": [
  {
   "cell_type": "markdown",
   "metadata": {},
   "source": [
    "# This Lab is open from 6 am to 3:30 pm on Friday, 9/20/2019\n",
    "# Make sure to submit it by 3:30 on Friday 9/20/2019."
   ]
  },
  {
   "cell_type": "markdown",
   "metadata": {},
   "source": [
    "This Lab explores ways to calculate basic statistics, measure of spread and making a box plot for numeric variables in the data you used for HW3.  Please make sure to create a folder called Lab 3 in your DS 201 folder and save this ipynb file together with grbooks data. That way all of your solutions are separated from your other ipynb files and it  will be easier to find the solution when it is time to submit.\n"
   ]
  },
  {
   "cell_type": "markdown",
   "metadata": {},
   "source": [
    "Please import appropriate libraries ( pandas, matplotlib, numpy etc.) and load the data in jupyter notebook. This data set has 22891 rows and 20 columns. Please do not show it all in the solution. It will take pages of this notebook to display the data. If you need to see how data looks like, just use code to see head or tail of the data."
   ]
  },
  {
   "cell_type": "markdown",
   "metadata": {},
   "source": [
    " Most of the topics discussed this week apply to only numerical variables. So, please use only the following columns ( where author name and book name as categorical and other 4 columns arenumerical) from the data. "
   ]
  },
  {
   "cell_type": "code",
   "execution_count": 14,
   "metadata": {},
   "outputs": [],
   "source": [
    "cols=['author_name','book_title', 'book_average_rating', 'num_ratings', 'num_reviews',\n",
    "        'score']"
   ]
  },
  {
   "cell_type": "markdown",
   "metadata": {},
   "source": [
    "Let's start by importing all the necessory packages and the data"
   ]
  },
  {
   "cell_type": "code",
   "execution_count": 15,
   "metadata": {},
   "outputs": [],
   "source": [
    "import pandas as pd\n",
    "import numpy as np\n",
    "import matplotlib as mpl\n",
    "import matplotlib.pyplot as mpt\n",
    "import seaborn as sbn\n",
    "books = pd.read_csv('grbooks.csv')"
   ]
  },
  {
   "cell_type": "markdown",
   "metadata": {},
   "source": [
    "### Problem 1 (10 points)\n",
    "After you have a new data frame with only the columns mentioned above, find the standard deviation   and mean absolute deviation(MAD) of all 4 numerical variables. Find the variables with the lowest  and highest standard deviation. Do the same for MAD. Comment on what that means for these two variables to have lowest $\\sigma$, highest $\\sigma$, lowest MAD and highest MAD. \n",
    "\n",
    "(10 points)"
   ]
  },
  {
   "cell_type": "code",
   "execution_count": 16,
   "metadata": {},
   "outputs": [
    {
     "data": {
      "text/plain": [
       "Index(['author_name', 'book_title', 'book_average_rating', 'num_ratings',\n",
       "       'num_reviews', 'score'],\n",
       "      dtype='object')"
      ]
     },
     "execution_count": 16,
     "metadata": {},
     "output_type": "execute_result"
    }
   ],
   "source": [
    "df = books[cols]\n",
    "df.columns"
   ]
  },
  {
   "cell_type": "code",
   "execution_count": 29,
   "metadata": {},
   "outputs": [],
   "source": [
    "# yourdf.std(), and yourdf.mad() will give you standard deviations and MAD \n",
    "# for those 4 variables."
   ]
  },
  {
   "cell_type": "code",
   "execution_count": 17,
   "metadata": {
    "scrolled": true
   },
   "outputs": [
    {
     "data": {
      "text/plain": [
       "book_average_rating         0.291317\n",
       "num_ratings            180069.814253\n",
       "num_reviews              6837.503574\n",
       "score                   11022.018268\n",
       "dtype: float64"
      ]
     },
     "execution_count": 17,
     "metadata": {},
     "output_type": "execute_result"
    }
   ],
   "source": [
    "df.std()"
   ]
  },
  {
   "cell_type": "markdown",
   "metadata": {},
   "source": [
    "the book average rating had the lowest std dev, while the number ratings had the highest. This means that the measurement scale for book average rating was probably significantly smaller than the range of the number of ratings."
   ]
  },
  {
   "cell_type": "code",
   "execution_count": 18,
   "metadata": {},
   "outputs": [
    {
     "data": {
      "text/plain": [
       "book_average_rating        0.225215\n",
       "num_ratings            66577.853866\n",
       "num_reviews             3016.061533\n",
       "score                   3721.948295\n",
       "dtype: float64"
      ]
     },
     "execution_count": 18,
     "metadata": {},
     "output_type": "execute_result"
    }
   ],
   "source": [
    "df.mad()"
   ]
  },
  {
   "cell_type": "markdown",
   "metadata": {},
   "source": [
    "Once again, the average book rating had the lowest MAD while the number of ratings has the highest."
   ]
  },
  {
   "cell_type": "markdown",
   "metadata": {},
   "source": [
    "### Problem 2 ( 10 points)\n",
    "Find the first quartile  (Q1), second quartile (Q2 = Median) and the third quartile(Q3) of the 4 numerical columns. Which variables have the lowest and highest interquartile range (IQR). You can use Quantile function in pandas to find these. More about quantile function is here.\n",
    "https://pandas.pydata.org/pandas-docs/stable/reference/api/pandas.DataFrame.quantile.html"
   ]
  },
  {
   "cell_type": "code",
   "execution_count": 19,
   "metadata": {},
   "outputs": [
    {
     "data": {
      "text/html": [
       "<div>\n",
       "<style scoped>\n",
       "    .dataframe tbody tr th:only-of-type {\n",
       "        vertical-align: middle;\n",
       "    }\n",
       "\n",
       "    .dataframe tbody tr th {\n",
       "        vertical-align: top;\n",
       "    }\n",
       "\n",
       "    .dataframe thead th {\n",
       "        text-align: right;\n",
       "    }\n",
       "</style>\n",
       "<table border=\"1\" class=\"dataframe\">\n",
       "  <thead>\n",
       "    <tr style=\"text-align: right;\">\n",
       "      <th></th>\n",
       "      <th>book_average_rating</th>\n",
       "      <th>num_ratings</th>\n",
       "      <th>num_reviews</th>\n",
       "      <th>score</th>\n",
       "    </tr>\n",
       "  </thead>\n",
       "  <tbody>\n",
       "    <tr>\n",
       "      <th>0.25</th>\n",
       "      <td>3.77</td>\n",
       "      <td>820.0</td>\n",
       "      <td>106.0</td>\n",
       "      <td>832.0</td>\n",
       "    </tr>\n",
       "    <tr>\n",
       "      <th>0.50</th>\n",
       "      <td>3.96</td>\n",
       "      <td>4403.0</td>\n",
       "      <td>384.0</td>\n",
       "      <td>1727.0</td>\n",
       "    </tr>\n",
       "    <tr>\n",
       "      <th>0.75</th>\n",
       "      <td>4.14</td>\n",
       "      <td>20143.0</td>\n",
       "      <td>1504.0</td>\n",
       "      <td>3597.5</td>\n",
       "    </tr>\n",
       "  </tbody>\n",
       "</table>\n",
       "</div>"
      ],
      "text/plain": [
       "      book_average_rating  num_ratings  num_reviews   score\n",
       "0.25                 3.77        820.0        106.0   832.0\n",
       "0.50                 3.96       4403.0        384.0  1727.0\n",
       "0.75                 4.14      20143.0       1504.0  3597.5"
      ]
     },
     "execution_count": 19,
     "metadata": {},
     "output_type": "execute_result"
    }
   ],
   "source": [
    "df.quantile([0.25, 0.5, 0.75])"
   ]
  },
  {
   "cell_type": "markdown",
   "metadata": {},
   "source": [
    "Quantile, Quartile and Percentile are related as below.\n",
    "\n",
    "0 quartile = 0 quantile = 0 percentile\n",
    "\n",
    "1 quartile = 0.25 quantile = 25 percentile\n",
    "\n",
    "2 quartile = 0.5 quantile = 50 percentile (median)\n",
    "\n",
    "3 quartile = 0.75 quantile = 75 percentile\n",
    "\n",
    "4 quartile = 1 quantile = 100 percentile\n",
    "\n",
    "Read more about these here.\n",
    "https://stats.stackexchange.com/questions/156778/percentile-vs-quantile-vs-quartile"
   ]
  },
  {
   "cell_type": "markdown",
   "metadata": {},
   "source": [
    "### Problem 3 ( 10 points)\n",
    "Let's find the range of all 4 numerical columns. Range by definition  is  max - min for each variable. If you just use the code yourdf.max()-yourdf.min() then you will see an error. This is because yourdf.max will calculate 4 maximums for the 4 numerical columns and also lists author and book name with longest name. So when you subtract yourdf.min() from it, you are also subtracting a string from a string which is not defined. Addition of strings is defined though. See example below."
   ]
  },
  {
   "cell_type": "code",
   "execution_count": 20,
   "metadata": {},
   "outputs": [],
   "source": [
    "# Try yourdf.max() to see this.  Imagine trying to subtract from its output."
   ]
  },
  {
   "cell_type": "code",
   "execution_count": 21,
   "metadata": {},
   "outputs": [],
   "source": [
    "a = 'cy'\n",
    "b = 'clone'"
   ]
  },
  {
   "cell_type": "code",
   "execution_count": 22,
   "metadata": {},
   "outputs": [
    {
     "data": {
      "text/plain": [
       "'cyclone'"
      ]
     },
     "execution_count": 22,
     "metadata": {},
     "output_type": "execute_result"
    }
   ],
   "source": [
    "a+b"
   ]
  },
  {
   "cell_type": "code",
   "execution_count": 23,
   "metadata": {},
   "outputs": [
    {
     "ename": "TypeError",
     "evalue": "unsupported operand type(s) for -: 'str' and 'str'",
     "output_type": "error",
     "traceback": [
      "\u001b[1;31m---------------------------------------------------------------------------\u001b[0m",
      "\u001b[1;31mTypeError\u001b[0m                                 Traceback (most recent call last)",
      "\u001b[1;32m<ipython-input-23-5ae0619f8fe1>\u001b[0m in \u001b[0;36m<module>\u001b[1;34m\u001b[0m\n\u001b[1;32m----> 1\u001b[1;33m \u001b[0ma\u001b[0m\u001b[1;33m-\u001b[0m\u001b[0mb\u001b[0m\u001b[1;33m\u001b[0m\u001b[1;33m\u001b[0m\u001b[0m\n\u001b[0m",
      "\u001b[1;31mTypeError\u001b[0m: unsupported operand type(s) for -: 'str' and 'str'"
     ]
    }
   ],
   "source": [
    "a-b"
   ]
  },
  {
   "cell_type": "markdown",
   "metadata": {},
   "source": [
    "There are multiple way to do this problem. You could do yourdf.describe(), find the min and max of all 4 variables and subract min from max for all 4. You could also do it individually\n",
    "by doing yourdf.columnname.max()-yourdf.columnname.min() for each of the variables. One other option is to make a list of 4 numerical variables like below"
   ]
  },
  {
   "cell_type": "code",
   "execution_count": 28,
   "metadata": {},
   "outputs": [
    {
     "data": {
      "text/plain": [
       "book_average_rating          5.0\n",
       "num_ratings            3820921.0\n",
       "num_reviews             147696.0\n",
       "score                   598215.0\n",
       "dtype: float64"
      ]
     },
     "execution_count": 28,
     "metadata": {},
     "output_type": "execute_result"
    }
   ],
   "source": [
    "numcols=['book_average_rating', 'num_ratings', 'num_reviews','score']\n",
    "df[numcols].max() - df[numcols].min()"
   ]
  },
  {
   "cell_type": "markdown",
   "metadata": {},
   "source": [
    "By using range as a measure of spread, which variable data is ideal(symmetric) and which variable is most skewed?"
   ]
  },
  {
   "cell_type": "markdown",
   "metadata": {},
   "source": [
    "By looking at the spead in the data from the range, it can be seen that some values are much bigger than the other. The range of average book rating is 5, hence this data is the most ideal. The num_ratings variable has the biggest range and hences the widest spread, therefore this variable is the most skewed. "
   ]
  },
  {
   "cell_type": "markdown",
   "metadata": {},
   "source": [
    "### Problem 4 ( 10 points)\n",
    "We will find outliers in our data in this problem. For any variable, if any data falls below\n",
    "the number $ Q1- 1.5 IQR$ or falls above the number $ Q3+ 1.5 IQR$ then those data points are outliers. Let's try this for for one variable named num_reviews.  Note:  In statistics, $IQR = Q3 - Q1$."
   ]
  },
  {
   "cell_type": "code",
   "execution_count": 30,
   "metadata": {},
   "outputs": [],
   "source": [
    "# Find Q1 and Q3 for num_review first.\n",
    "Q1, Q3 = books.num_reviews.quantile([0.25, 0.75])"
   ]
  },
  {
   "cell_type": "code",
   "execution_count": 31,
   "metadata": {},
   "outputs": [
    {
     "data": {
      "text/plain": [
       "106.0"
      ]
     },
     "execution_count": 31,
     "metadata": {},
     "output_type": "execute_result"
    }
   ],
   "source": [
    "Q1"
   ]
  },
  {
   "cell_type": "code",
   "execution_count": 32,
   "metadata": {},
   "outputs": [
    {
     "data": {
      "text/plain": [
       "1504.0"
      ]
     },
     "execution_count": 32,
     "metadata": {},
     "output_type": "execute_result"
    }
   ],
   "source": [
    "Q3"
   ]
  },
  {
   "cell_type": "markdown",
   "metadata": {},
   "source": [
    "I will then filter the data using these outlier conditions. Let's check the outliers below."
   ]
  },
  {
   "cell_type": "code",
   "execution_count": 33,
   "metadata": {},
   "outputs": [
    {
     "data": {
      "text/plain": [
       "(0, 20)"
      ]
     },
     "execution_count": 33,
     "metadata": {},
     "output_type": "execute_result"
    }
   ],
   "source": [
    "outliers1= books[books.num_reviews < Q1-1.5 * (Q3-Q1)]\n",
    "outliers1.shape"
   ]
  },
  {
   "cell_type": "markdown",
   "metadata": {},
   "source": [
    "This means that there are no outliers as there is no row satisying the criteria. Data only shows 20 names of the columns."
   ]
  },
  {
   "cell_type": "code",
   "execution_count": 34,
   "metadata": {},
   "outputs": [
    {
     "data": {
      "text/html": [
       "<div>\n",
       "<style scoped>\n",
       "    .dataframe tbody tr th:only-of-type {\n",
       "        vertical-align: middle;\n",
       "    }\n",
       "\n",
       "    .dataframe tbody tr th {\n",
       "        vertical-align: top;\n",
       "    }\n",
       "\n",
       "    .dataframe thead th {\n",
       "        text-align: right;\n",
       "    }\n",
       "</style>\n",
       "<table border=\"1\" class=\"dataframe\">\n",
       "  <thead>\n",
       "    <tr style=\"text-align: right;\">\n",
       "      <th></th>\n",
       "      <th>author_average_rating</th>\n",
       "      <th>author_gender</th>\n",
       "      <th>author_genres</th>\n",
       "      <th>author_id</th>\n",
       "      <th>author_name</th>\n",
       "      <th>author_page_url</th>\n",
       "      <th>author_rating_count</th>\n",
       "      <th>author_review_count</th>\n",
       "      <th>birthplace</th>\n",
       "      <th>book_average_rating</th>\n",
       "      <th>book_fullurl</th>\n",
       "      <th>book_id</th>\n",
       "      <th>book_title</th>\n",
       "      <th>genre_1</th>\n",
       "      <th>genre_2</th>\n",
       "      <th>num_ratings</th>\n",
       "      <th>num_reviews</th>\n",
       "      <th>pages</th>\n",
       "      <th>publish_date</th>\n",
       "      <th>score</th>\n",
       "    </tr>\n",
       "  </thead>\n",
       "  <tbody>\n",
       "  </tbody>\n",
       "</table>\n",
       "</div>"
      ],
      "text/plain": [
       "Empty DataFrame\n",
       "Columns: [author_average_rating, author_gender, author_genres, author_id, author_name, author_page_url, author_rating_count, author_review_count, birthplace, book_average_rating, book_fullurl, book_id, book_title, genre_1, genre_2, num_ratings, num_reviews, pages, publish_date, score]\n",
       "Index: []"
      ]
     },
     "execution_count": 34,
     "metadata": {},
     "output_type": "execute_result"
    }
   ],
   "source": [
    "outliers1"
   ]
  },
  {
   "cell_type": "markdown",
   "metadata": {},
   "source": [
    "Let's check on the other side."
   ]
  },
  {
   "cell_type": "code",
   "execution_count": 35,
   "metadata": {},
   "outputs": [
    {
     "data": {
      "text/plain": [
       "(3086, 20)"
      ]
     },
     "execution_count": 35,
     "metadata": {},
     "output_type": "execute_result"
    }
   ],
   "source": [
    "outliers2= books[books.num_reviews > Q3+1.5 * (Q3-Q1)]\n",
    "outliers2.shape"
   ]
  },
  {
   "cell_type": "code",
   "execution_count": 36,
   "metadata": {
    "scrolled": true
   },
   "outputs": [
    {
     "data": {
      "text/html": [
       "<div>\n",
       "<style scoped>\n",
       "    .dataframe tbody tr th:only-of-type {\n",
       "        vertical-align: middle;\n",
       "    }\n",
       "\n",
       "    .dataframe tbody tr th {\n",
       "        vertical-align: top;\n",
       "    }\n",
       "\n",
       "    .dataframe thead th {\n",
       "        text-align: right;\n",
       "    }\n",
       "</style>\n",
       "<table border=\"1\" class=\"dataframe\">\n",
       "  <thead>\n",
       "    <tr style=\"text-align: right;\">\n",
       "      <th></th>\n",
       "      <th>author_average_rating</th>\n",
       "      <th>author_gender</th>\n",
       "      <th>author_genres</th>\n",
       "      <th>author_id</th>\n",
       "      <th>author_name</th>\n",
       "      <th>author_page_url</th>\n",
       "      <th>author_rating_count</th>\n",
       "      <th>author_review_count</th>\n",
       "      <th>birthplace</th>\n",
       "      <th>book_average_rating</th>\n",
       "      <th>book_fullurl</th>\n",
       "      <th>book_id</th>\n",
       "      <th>book_title</th>\n",
       "      <th>genre_1</th>\n",
       "      <th>genre_2</th>\n",
       "      <th>num_ratings</th>\n",
       "      <th>num_reviews</th>\n",
       "      <th>pages</th>\n",
       "      <th>publish_date</th>\n",
       "      <th>score</th>\n",
       "    </tr>\n",
       "  </thead>\n",
       "  <tbody>\n",
       "    <tr>\n",
       "      <th>1</th>\n",
       "      <td>4.15</td>\n",
       "      <td>male</td>\n",
       "      <td>literature-fiction,mystery-thrillers,</td>\n",
       "      <td>706255</td>\n",
       "      <td>Stieg Larsson\\n</td>\n",
       "      <td>/author/show/706255.Stieg_Larsson</td>\n",
       "      <td>3726435</td>\n",
       "      <td>142704</td>\n",
       "      <td>Sweden\\n</td>\n",
       "      <td>4.13</td>\n",
       "      <td>https://www.goodreads.com/book/show/2429135.Th...</td>\n",
       "      <td>2429135</td>\n",
       "      <td>\\n      The Girl with the Dragon Tattoo\\n</td>\n",
       "      <td>Fiction</td>\n",
       "      <td>Mystery</td>\n",
       "      <td>2229163</td>\n",
       "      <td>65227</td>\n",
       "      <td>465</td>\n",
       "      <td>August 2005</td>\n",
       "      <td>3062</td>\n",
       "    </tr>\n",
       "    <tr>\n",
       "      <th>7</th>\n",
       "      <td>3.94</td>\n",
       "      <td>female</td>\n",
       "      <td>nonfiction,</td>\n",
       "      <td>7956</td>\n",
       "      <td>Mary Roach\\n</td>\n",
       "      <td>/author/show/7956.Mary_Roach</td>\n",
       "      <td>321197</td>\n",
       "      <td>29747</td>\n",
       "      <td>United States\\n</td>\n",
       "      <td>3.84</td>\n",
       "      <td>https://www.goodreads.com/book/show/5981308-bonk</td>\n",
       "      <td>5981308</td>\n",
       "      <td>\\n      Bonk: The Curious Coupling of Science ...</td>\n",
       "      <td>Nonfiction</td>\n",
       "      <td>Science</td>\n",
       "      <td>45963</td>\n",
       "      <td>4268</td>\n",
       "      <td>319</td>\n",
       "      <td>2008</td>\n",
       "      <td>2054</td>\n",
       "    </tr>\n",
       "    <tr>\n",
       "      <th>10</th>\n",
       "      <td>4.39</td>\n",
       "      <td>male</td>\n",
       "      <td>science-fiction-fantasy,</td>\n",
       "      <td>38550</td>\n",
       "      <td>Brandon Sanderson\\n</td>\n",
       "      <td>/author/show/38550.Brandon_Sanderson</td>\n",
       "      <td>2613993</td>\n",
       "      <td>170695</td>\n",
       "      <td>United States\\n</td>\n",
       "      <td>4.28</td>\n",
       "      <td>https://www.goodreads.com/book/show/15704459-f...</td>\n",
       "      <td>15704459</td>\n",
       "      <td>\\n      Firefight\\n</td>\n",
       "      <td>Fantasy</td>\n",
       "      <td>Young Adult</td>\n",
       "      <td>65071</td>\n",
       "      <td>5161</td>\n",
       "      <td>416</td>\n",
       "      <td>2015</td>\n",
       "      <td>4347</td>\n",
       "    </tr>\n",
       "    <tr>\n",
       "      <th>13</th>\n",
       "      <td>4.26</td>\n",
       "      <td>female</td>\n",
       "      <td>fiction,science-fiction-fantasy,</td>\n",
       "      <td>153394</td>\n",
       "      <td>Suzanne Collins\\n</td>\n",
       "      <td>/author/show/153394.Suzanne_Collins</td>\n",
       "      <td>10212155</td>\n",
       "      <td>370569</td>\n",
       "      <td>United States\\n</td>\n",
       "      <td>4.03</td>\n",
       "      <td>https://www.goodreads.com/book/show/7260188-mo...</td>\n",
       "      <td>7260188</td>\n",
       "      <td>\\n      Mockingjay\\n</td>\n",
       "      <td>Young Adult</td>\n",
       "      <td>Science Fiction</td>\n",
       "      <td>2034222</td>\n",
       "      <td>98584</td>\n",
       "      <td>392</td>\n",
       "      <td>2010</td>\n",
       "      <td>12662</td>\n",
       "    </tr>\n",
       "    <tr>\n",
       "      <th>80</th>\n",
       "      <td>3.93</td>\n",
       "      <td>male</td>\n",
       "      <td>science-fiction,children-s,fiction,</td>\n",
       "      <td>205</td>\n",
       "      <td>Robert A. Heinlein\\n</td>\n",
       "      <td>/author/show/205.Robert_A_Heinlein</td>\n",
       "      <td>999390</td>\n",
       "      <td>31085</td>\n",
       "      <td>United States\\n</td>\n",
       "      <td>3.91</td>\n",
       "      <td>https://www.goodreads.com/book/show/350.Strang...</td>\n",
       "      <td>350</td>\n",
       "      <td>\\n      Stranger in a Strange Land\\n</td>\n",
       "      <td>Science Fiction</td>\n",
       "      <td>Fiction</td>\n",
       "      <td>249232</td>\n",
       "      <td>7108</td>\n",
       "      <td>528</td>\n",
       "      <td>July 1st 1961</td>\n",
       "      <td>9765</td>\n",
       "    </tr>\n",
       "  </tbody>\n",
       "</table>\n",
       "</div>"
      ],
      "text/plain": [
       "    author_average_rating author_gender  \\\n",
       "1                    4.15          male   \n",
       "7                    3.94        female   \n",
       "10                   4.39          male   \n",
       "13                   4.26        female   \n",
       "80                   3.93          male   \n",
       "\n",
       "                            author_genres  author_id           author_name  \\\n",
       "1   literature-fiction,mystery-thrillers,     706255       Stieg Larsson\\n   \n",
       "7                             nonfiction,       7956          Mary Roach\\n   \n",
       "10               science-fiction-fantasy,      38550   Brandon Sanderson\\n   \n",
       "13       fiction,science-fiction-fantasy,     153394     Suzanne Collins\\n   \n",
       "80    science-fiction,children-s,fiction,        205  Robert A. Heinlein\\n   \n",
       "\n",
       "                         author_page_url  author_rating_count  \\\n",
       "1      /author/show/706255.Stieg_Larsson              3726435   \n",
       "7           /author/show/7956.Mary_Roach               321197   \n",
       "10  /author/show/38550.Brandon_Sanderson              2613993   \n",
       "13   /author/show/153394.Suzanne_Collins             10212155   \n",
       "80    /author/show/205.Robert_A_Heinlein               999390   \n",
       "\n",
       "    author_review_count            birthplace  book_average_rating  \\\n",
       "1                142704          Sweden\\n                     4.13   \n",
       "7                 29747     United States\\n                   3.84   \n",
       "10               170695     United States\\n                   4.28   \n",
       "13               370569   United States\\n                     4.03   \n",
       "80                31085   United States\\n                     3.91   \n",
       "\n",
       "                                         book_fullurl   book_id  \\\n",
       "1   https://www.goodreads.com/book/show/2429135.Th...   2429135   \n",
       "7    https://www.goodreads.com/book/show/5981308-bonk   5981308   \n",
       "10  https://www.goodreads.com/book/show/15704459-f...  15704459   \n",
       "13  https://www.goodreads.com/book/show/7260188-mo...   7260188   \n",
       "80  https://www.goodreads.com/book/show/350.Strang...       350   \n",
       "\n",
       "                                           book_title          genre_1  \\\n",
       "1           \\n      The Girl with the Dragon Tattoo\\n          Fiction   \n",
       "7   \\n      Bonk: The Curious Coupling of Science ...       Nonfiction   \n",
       "10                                \\n      Firefight\\n          Fantasy   \n",
       "13                               \\n      Mockingjay\\n      Young Adult   \n",
       "80               \\n      Stranger in a Strange Land\\n  Science Fiction   \n",
       "\n",
       "            genre_2  num_ratings  num_reviews pages   publish_date  score  \n",
       "1           Mystery      2229163        65227   465    August 2005   3062  \n",
       "7           Science        45963         4268   319           2008   2054  \n",
       "10      Young Adult        65071         5161   416           2015   4347  \n",
       "13  Science Fiction      2034222        98584   392           2010  12662  \n",
       "80          Fiction       249232         7108   528  July 1st 1961   9765  "
      ]
     },
     "execution_count": 36,
     "metadata": {},
     "output_type": "execute_result"
    }
   ],
   "source": [
    "outliers2.head()\n",
    "# Look at the num_reviews columns to see that this data frame has very\n",
    "# large numbers in this column"
   ]
  },
  {
   "cell_type": "markdown",
   "metadata": {},
   "source": [
    "It looks like we have 3086 outliers in num_reviews variable. Many popular books are listed in this data sets which obviously have many more reviews compared to other books which are not that popular."
   ]
  },
  {
   "cell_type": "markdown",
   "metadata": {},
   "source": [
    "Check if book_average_rating column has any outliers below or above. List the total number of outliers, if any."
   ]
  },
  {
   "cell_type": "code",
   "execution_count": 37,
   "metadata": {},
   "outputs": [
    {
     "data": {
      "text/plain": [
       "(258, 20)"
      ]
     },
     "execution_count": 37,
     "metadata": {},
     "output_type": "execute_result"
    }
   ],
   "source": [
    "Q1, Q3 = books.book_average_rating.quantile([0.25, 0.75])\n",
    "\n",
    "outliers1= books[books.book_average_rating < Q1-1.5 * (Q3-Q1)]\n",
    "outliers1.shape"
   ]
  },
  {
   "cell_type": "code",
   "execution_count": 39,
   "metadata": {},
   "outputs": [
    {
     "data": {
      "text/html": [
       "<div>\n",
       "<style scoped>\n",
       "    .dataframe tbody tr th:only-of-type {\n",
       "        vertical-align: middle;\n",
       "    }\n",
       "\n",
       "    .dataframe tbody tr th {\n",
       "        vertical-align: top;\n",
       "    }\n",
       "\n",
       "    .dataframe thead th {\n",
       "        text-align: right;\n",
       "    }\n",
       "</style>\n",
       "<table border=\"1\" class=\"dataframe\">\n",
       "  <thead>\n",
       "    <tr style=\"text-align: right;\">\n",
       "      <th></th>\n",
       "      <th>author_average_rating</th>\n",
       "      <th>author_gender</th>\n",
       "      <th>author_genres</th>\n",
       "      <th>author_id</th>\n",
       "      <th>author_name</th>\n",
       "      <th>author_page_url</th>\n",
       "      <th>author_rating_count</th>\n",
       "      <th>author_review_count</th>\n",
       "      <th>birthplace</th>\n",
       "      <th>book_average_rating</th>\n",
       "      <th>book_fullurl</th>\n",
       "      <th>book_id</th>\n",
       "      <th>book_title</th>\n",
       "      <th>genre_1</th>\n",
       "      <th>genre_2</th>\n",
       "      <th>num_ratings</th>\n",
       "      <th>num_reviews</th>\n",
       "      <th>pages</th>\n",
       "      <th>publish_date</th>\n",
       "      <th>score</th>\n",
       "    </tr>\n",
       "  </thead>\n",
       "  <tbody>\n",
       "    <tr>\n",
       "      <th>223</th>\n",
       "      <td>3.32</td>\n",
       "      <td>female</td>\n",
       "      <td>historical-romance,</td>\n",
       "      <td>4606082</td>\n",
       "      <td>K.C. Hilton\\n</td>\n",
       "      <td>/author/show/4606082.K_C_Hilton</td>\n",
       "      <td>2860</td>\n",
       "      <td>546</td>\n",
       "      <td>\\n   United States\\n</td>\n",
       "      <td>3.13</td>\n",
       "      <td>https://www.goodreads.com/book/show/13641748-m...</td>\n",
       "      <td>13641748</td>\n",
       "      <td>\\n      My Name Is Rapunzel\\n</td>\n",
       "      <td>Romance</td>\n",
       "      <td>Fantasy</td>\n",
       "      <td>1867</td>\n",
       "      <td>327</td>\n",
       "      <td>322</td>\n",
       "      <td>October 26th 2013</td>\n",
       "      <td>16647</td>\n",
       "    </tr>\n",
       "    <tr>\n",
       "      <th>427</th>\n",
       "      <td>3.83</td>\n",
       "      <td>male</td>\n",
       "      <td>literature-fiction,</td>\n",
       "      <td>2546</td>\n",
       "      <td>Chuck Palahniuk\\n</td>\n",
       "      <td>/author/show/2546.Chuck_Palahniuk</td>\n",
       "      <td>1325981</td>\n",
       "      <td>57285</td>\n",
       "      <td>United States\\n</td>\n",
       "      <td>3.19</td>\n",
       "      <td>https://www.goodreads.com/book/show/1840511.Snuff</td>\n",
       "      <td>1840511</td>\n",
       "      <td>\\n      Snuff\\n</td>\n",
       "      <td>Fiction</td>\n",
       "      <td>Contemporary</td>\n",
       "      <td>50514</td>\n",
       "      <td>2714</td>\n",
       "      <td>208</td>\n",
       "      <td>2008</td>\n",
       "      <td>3750</td>\n",
       "    </tr>\n",
       "    <tr>\n",
       "      <th>688</th>\n",
       "      <td>3.43</td>\n",
       "      <td>male</td>\n",
       "      <td>literature-fiction,</td>\n",
       "      <td>5285</td>\n",
       "      <td>Aimee Bender\\n</td>\n",
       "      <td>/author/show/5285.Aimee_Bender</td>\n",
       "      <td>84808</td>\n",
       "      <td>13315</td>\n",
       "      <td>\\n   United States\\n</td>\n",
       "      <td>3.20</td>\n",
       "      <td>https://www.goodreads.com/book/show/7048800-th...</td>\n",
       "      <td>7048800</td>\n",
       "      <td>\\n      The Particular Sadness of Lemon Cake\\n</td>\n",
       "      <td>Fiction</td>\n",
       "      <td>Magical Realism</td>\n",
       "      <td>52142</td>\n",
       "      <td>9511</td>\n",
       "      <td>292</td>\n",
       "      <td>2010</td>\n",
       "      <td>6555</td>\n",
       "    </tr>\n",
       "    <tr>\n",
       "      <th>1377</th>\n",
       "      <td>3.14</td>\n",
       "      <td>male</td>\n",
       "      <td>memoir,crime,</td>\n",
       "      <td>1744933</td>\n",
       "      <td>O.J. Simpson\\n</td>\n",
       "      <td>/author/show/1744933.O_J_Simpson</td>\n",
       "      <td>5870</td>\n",
       "      <td>869</td>\n",
       "      <td>United States\\n</td>\n",
       "      <td>2.24</td>\n",
       "      <td>https://www.goodreads.com/book/show/96833.I_Wa...</td>\n",
       "      <td>96833</td>\n",
       "      <td>\\n      I Want to Tell You: My Response to You...</td>\n",
       "      <td>Nonfiction</td>\n",
       "      <td>Crime</td>\n",
       "      <td>206</td>\n",
       "      <td>28</td>\n",
       "      <td>208</td>\n",
       "      <td>1995</td>\n",
       "      <td>31146</td>\n",
       "    </tr>\n",
       "    <tr>\n",
       "      <th>1433</th>\n",
       "      <td>3.50</td>\n",
       "      <td>male</td>\n",
       "      <td>science-fiction-fantasy,historical-fiction,</td>\n",
       "      <td>1448</td>\n",
       "      <td>Karen Joy Fowler\\n</td>\n",
       "      <td>/author/show/1448.Karen_Joy_Fowler</td>\n",
       "      <td>174557</td>\n",
       "      <td>18388</td>\n",
       "      <td>United States\\n</td>\n",
       "      <td>3.08</td>\n",
       "      <td>https://www.goodreads.com/book/show/2152.The_J...</td>\n",
       "      <td>2152</td>\n",
       "      <td>\\n      The Jane Austen Book Club\\n</td>\n",
       "      <td>Fiction</td>\n",
       "      <td>Womens Fiction</td>\n",
       "      <td>60102</td>\n",
       "      <td>4135</td>\n",
       "      <td>288</td>\n",
       "      <td>January 1st 2004</td>\n",
       "      <td>13729</td>\n",
       "    </tr>\n",
       "  </tbody>\n",
       "</table>\n",
       "</div>"
      ],
      "text/plain": [
       "      author_average_rating author_gender  \\\n",
       "223                    3.32        female   \n",
       "427                    3.83          male   \n",
       "688                    3.43          male   \n",
       "1377                   3.14          male   \n",
       "1433                   3.50          male   \n",
       "\n",
       "                                    author_genres  author_id  \\\n",
       "223                           historical-romance,    4606082   \n",
       "427                           literature-fiction,       2546   \n",
       "688                           literature-fiction,       5285   \n",
       "1377                                memoir,crime,    1744933   \n",
       "1433  science-fiction-fantasy,historical-fiction,       1448   \n",
       "\n",
       "             author_name                     author_page_url  \\\n",
       "223        K.C. Hilton\\n     /author/show/4606082.K_C_Hilton   \n",
       "427    Chuck Palahniuk\\n   /author/show/2546.Chuck_Palahniuk   \n",
       "688       Aimee Bender\\n      /author/show/5285.Aimee_Bender   \n",
       "1377      O.J. Simpson\\n    /author/show/1744933.O_J_Simpson   \n",
       "1433  Karen Joy Fowler\\n  /author/show/1448.Karen_Joy_Fowler   \n",
       "\n",
       "      author_rating_count  author_review_count              birthplace  \\\n",
       "223                  2860                  546  \\n   United States\\n     \n",
       "427               1325981                57285       United States\\n     \n",
       "688                 84808                13315  \\n   United States\\n     \n",
       "1377                 5870                  869     United States\\n       \n",
       "1433               174557                18388     United States\\n       \n",
       "\n",
       "      book_average_rating                                       book_fullurl  \\\n",
       "223                  3.13  https://www.goodreads.com/book/show/13641748-m...   \n",
       "427                  3.19  https://www.goodreads.com/book/show/1840511.Snuff   \n",
       "688                  3.20  https://www.goodreads.com/book/show/7048800-th...   \n",
       "1377                 2.24  https://www.goodreads.com/book/show/96833.I_Wa...   \n",
       "1433                 3.08  https://www.goodreads.com/book/show/2152.The_J...   \n",
       "\n",
       "       book_id                                         book_title     genre_1  \\\n",
       "223   13641748                      \\n      My Name Is Rapunzel\\n     Romance   \n",
       "427    1840511                                    \\n      Snuff\\n     Fiction   \n",
       "688    7048800     \\n      The Particular Sadness of Lemon Cake\\n     Fiction   \n",
       "1377     96833  \\n      I Want to Tell You: My Response to You...  Nonfiction   \n",
       "1433      2152                \\n      The Jane Austen Book Club\\n     Fiction   \n",
       "\n",
       "              genre_2  num_ratings  num_reviews pages       publish_date  \\\n",
       "223           Fantasy         1867          327   322  October 26th 2013   \n",
       "427      Contemporary        50514         2714   208               2008   \n",
       "688   Magical Realism        52142         9511   292               2010   \n",
       "1377            Crime          206           28   208               1995   \n",
       "1433   Womens Fiction        60102         4135   288   January 1st 2004   \n",
       "\n",
       "      score  \n",
       "223   16647  \n",
       "427    3750  \n",
       "688    6555  \n",
       "1377  31146  \n",
       "1433  13729  "
      ]
     },
     "execution_count": 39,
     "metadata": {},
     "output_type": "execute_result"
    }
   ],
   "source": [
    "outliers1.head()"
   ]
  },
  {
   "cell_type": "code",
   "execution_count": 38,
   "metadata": {},
   "outputs": [
    {
     "data": {
      "text/plain": [
       "(165, 20)"
      ]
     },
     "execution_count": 38,
     "metadata": {},
     "output_type": "execute_result"
    }
   ],
   "source": [
    "outliers2= books[books.book_average_rating > Q3+1.5 * (Q3-Q1)]\n",
    "outliers2.shape"
   ]
  },
  {
   "cell_type": "code",
   "execution_count": 40,
   "metadata": {
    "scrolled": true
   },
   "outputs": [
    {
     "data": {
      "text/html": [
       "<div>\n",
       "<style scoped>\n",
       "    .dataframe tbody tr th:only-of-type {\n",
       "        vertical-align: middle;\n",
       "    }\n",
       "\n",
       "    .dataframe tbody tr th {\n",
       "        vertical-align: top;\n",
       "    }\n",
       "\n",
       "    .dataframe thead th {\n",
       "        text-align: right;\n",
       "    }\n",
       "</style>\n",
       "<table border=\"1\" class=\"dataframe\">\n",
       "  <thead>\n",
       "    <tr style=\"text-align: right;\">\n",
       "      <th></th>\n",
       "      <th>author_average_rating</th>\n",
       "      <th>author_gender</th>\n",
       "      <th>author_genres</th>\n",
       "      <th>author_id</th>\n",
       "      <th>author_name</th>\n",
       "      <th>author_page_url</th>\n",
       "      <th>author_rating_count</th>\n",
       "      <th>author_review_count</th>\n",
       "      <th>birthplace</th>\n",
       "      <th>book_average_rating</th>\n",
       "      <th>book_fullurl</th>\n",
       "      <th>book_id</th>\n",
       "      <th>book_title</th>\n",
       "      <th>genre_1</th>\n",
       "      <th>genre_2</th>\n",
       "      <th>num_ratings</th>\n",
       "      <th>num_reviews</th>\n",
       "      <th>pages</th>\n",
       "      <th>publish_date</th>\n",
       "      <th>score</th>\n",
       "    </tr>\n",
       "  </thead>\n",
       "  <tbody>\n",
       "    <tr>\n",
       "      <th>128</th>\n",
       "      <td>4.45</td>\n",
       "      <td>female</td>\n",
       "      <td>fiction,</td>\n",
       "      <td>1077326</td>\n",
       "      <td>J.K. Rowling\\n</td>\n",
       "      <td>/author/show/1077326.J_K_Rowling</td>\n",
       "      <td>21098703</td>\n",
       "      <td>516169</td>\n",
       "      <td>United Kingdom\\n</td>\n",
       "      <td>4.74</td>\n",
       "      <td>https://www.goodreads.com/book/show/862041.Har...</td>\n",
       "      <td>862041</td>\n",
       "      <td>\\n      Harry Potter Series Box Set\\n</td>\n",
       "      <td>Fantasy</td>\n",
       "      <td>Young Adult</td>\n",
       "      <td>224432</td>\n",
       "      <td>6881</td>\n",
       "      <td>4100</td>\n",
       "      <td>2007</td>\n",
       "      <td>15445</td>\n",
       "    </tr>\n",
       "    <tr>\n",
       "      <th>318</th>\n",
       "      <td>4.74</td>\n",
       "      <td>male</td>\n",
       "      <td>science-fiction,young-adult,</td>\n",
       "      <td>8283255</td>\n",
       "      <td>J.S. Burke\\n</td>\n",
       "      <td>/author/show/8283255.J_S_Burke</td>\n",
       "      <td>290</td>\n",
       "      <td>196</td>\n",
       "      <td>\\n   United States\\n</td>\n",
       "      <td>4.82</td>\n",
       "      <td>https://www.goodreads.com/book/show/32598789-d...</td>\n",
       "      <td>32598789</td>\n",
       "      <td>\\n      Dragon Lightning\\n</td>\n",
       "      <td>Fantasy</td>\n",
       "      <td>Fantasy</td>\n",
       "      <td>78</td>\n",
       "      <td>56</td>\n",
       "      <td>264</td>\n",
       "      <td>2016</td>\n",
       "      <td>2462</td>\n",
       "    </tr>\n",
       "    <tr>\n",
       "      <th>572</th>\n",
       "      <td>4.76</td>\n",
       "      <td>male</td>\n",
       "      <td>fantasy,young-adult,</td>\n",
       "      <td>16789375</td>\n",
       "      <td>Malcolm McCoard\\n</td>\n",
       "      <td>/author/show/16789375.Malcolm_McCoard</td>\n",
       "      <td>165</td>\n",
       "      <td>38</td>\n",
       "      <td>United Kingdom\\n</td>\n",
       "      <td>4.79</td>\n",
       "      <td>https://www.goodreads.com/book/show/35002208-m...</td>\n",
       "      <td>35002208</td>\n",
       "      <td>\\n      Maya's Magical Adventures\\n</td>\n",
       "      <td>Fantasy</td>\n",
       "      <td>Fiction</td>\n",
       "      <td>94</td>\n",
       "      <td>23</td>\n",
       "      <td>175</td>\n",
       "      <td>2017</td>\n",
       "      <td>2657</td>\n",
       "    </tr>\n",
       "    <tr>\n",
       "      <th>884</th>\n",
       "      <td>4.31</td>\n",
       "      <td>male</td>\n",
       "      <td>literature-fiction,biographies-memoirs,</td>\n",
       "      <td>5600</td>\n",
       "      <td>Patrick O'Brian\\n</td>\n",
       "      <td>/author/show/5600.Patrick_O_Brian</td>\n",
       "      <td>239403</td>\n",
       "      <td>10172</td>\n",
       "      <td>United Kingdom\\n</td>\n",
       "      <td>4.70</td>\n",
       "      <td>https://www.goodreads.com/book/show/24520.The_...</td>\n",
       "      <td>24520</td>\n",
       "      <td>\\n      The Complete Aubrey/Maturin Novels (5 ...</td>\n",
       "      <td>Historical</td>\n",
       "      <td>Fiction</td>\n",
       "      <td>1268</td>\n",
       "      <td>79</td>\n",
       "      <td>6576</td>\n",
       "      <td>1994</td>\n",
       "      <td>21766</td>\n",
       "    </tr>\n",
       "    <tr>\n",
       "      <th>1067</th>\n",
       "      <td>4.69</td>\n",
       "      <td>male</td>\n",
       "      <td>young-adult,paranormal-and-fantasy,</td>\n",
       "      <td>5805745</td>\n",
       "      <td>Craig  MacLachlan\\n</td>\n",
       "      <td>/author/show/5805745.Craig_MacLachlan</td>\n",
       "      <td>26</td>\n",
       "      <td>8</td>\n",
       "      <td>United States\\n</td>\n",
       "      <td>4.81</td>\n",
       "      <td>https://www.goodreads.com/book/show/13576691-s...</td>\n",
       "      <td>13576691</td>\n",
       "      <td>\\n      Summer's Shadow\\n</td>\n",
       "      <td>Young Adult</td>\n",
       "      <td>Fantasy</td>\n",
       "      <td>21</td>\n",
       "      <td>8</td>\n",
       "      <td>356</td>\n",
       "      <td>2014</td>\n",
       "      <td>690</td>\n",
       "    </tr>\n",
       "  </tbody>\n",
       "</table>\n",
       "</div>"
      ],
      "text/plain": [
       "      author_average_rating author_gender  \\\n",
       "128                    4.45        female   \n",
       "318                    4.74          male   \n",
       "572                    4.76          male   \n",
       "884                    4.31          male   \n",
       "1067                   4.69          male   \n",
       "\n",
       "                                author_genres  author_id          author_name  \\\n",
       "128                                  fiction,    1077326       J.K. Rowling\\n   \n",
       "318              science-fiction,young-adult,    8283255         J.S. Burke\\n   \n",
       "572                      fantasy,young-adult,   16789375    Malcolm McCoard\\n   \n",
       "884   literature-fiction,biographies-memoirs,       5600    Patrick O'Brian\\n   \n",
       "1067      young-adult,paranormal-and-fantasy,    5805745  Craig  MacLachlan\\n   \n",
       "\n",
       "                            author_page_url  author_rating_count  \\\n",
       "128        /author/show/1077326.J_K_Rowling             21098703   \n",
       "318          /author/show/8283255.J_S_Burke                  290   \n",
       "572   /author/show/16789375.Malcolm_McCoard                  165   \n",
       "884       /author/show/5600.Patrick_O_Brian               239403   \n",
       "1067  /author/show/5805745.Craig_MacLachlan                   26   \n",
       "\n",
       "      author_review_count              birthplace  book_average_rating  \\\n",
       "128                516169    United Kingdom\\n                     4.74   \n",
       "318                   196  \\n   United States\\n                   4.82   \n",
       "572                    38      United Kingdom\\n                   4.79   \n",
       "884                 10172    United Kingdom\\n                     4.70   \n",
       "1067                    8       United States\\n                   4.81   \n",
       "\n",
       "                                           book_fullurl   book_id  \\\n",
       "128   https://www.goodreads.com/book/show/862041.Har...    862041   \n",
       "318   https://www.goodreads.com/book/show/32598789-d...  32598789   \n",
       "572   https://www.goodreads.com/book/show/35002208-m...  35002208   \n",
       "884   https://www.goodreads.com/book/show/24520.The_...     24520   \n",
       "1067  https://www.goodreads.com/book/show/13576691-s...  13576691   \n",
       "\n",
       "                                             book_title      genre_1  \\\n",
       "128               \\n      Harry Potter Series Box Set\\n      Fantasy   \n",
       "318                          \\n      Dragon Lightning\\n      Fantasy   \n",
       "572                 \\n      Maya's Magical Adventures\\n      Fantasy   \n",
       "884   \\n      The Complete Aubrey/Maturin Novels (5 ...   Historical   \n",
       "1067                          \\n      Summer's Shadow\\n  Young Adult   \n",
       "\n",
       "          genre_2  num_ratings  num_reviews pages publish_date  score  \n",
       "128   Young Adult       224432         6881  4100         2007  15445  \n",
       "318       Fantasy           78           56   264         2016   2462  \n",
       "572       Fiction           94           23   175         2017   2657  \n",
       "884       Fiction         1268           79  6576         1994  21766  \n",
       "1067      Fantasy           21            8   356         2014    690  "
      ]
     },
     "execution_count": 40,
     "metadata": {},
     "output_type": "execute_result"
    }
   ],
   "source": [
    "outliers2.head()"
   ]
  },
  {
   "cell_type": "markdown",
   "metadata": {},
   "source": [
    "total number of outliers are 258 + 165 = 423 outliers"
   ]
  },
  {
   "cell_type": "markdown",
   "metadata": {},
   "source": [
    "### Problem 5 (10 points)"
   ]
  },
  {
   "cell_type": "markdown",
   "metadata": {},
   "source": [
    "Let's make a box plot of our data. We will use only numerical columns. So, our data is:"
   ]
  },
  {
   "cell_type": "code",
   "execution_count": 69,
   "metadata": {},
   "outputs": [],
   "source": [
    "numcols=['book_average_rating', 'num_ratings', 'num_reviews','score']\n",
    "books1= books[numcols]"
   ]
  },
  {
   "cell_type": "code",
   "execution_count": 70,
   "metadata": {},
   "outputs": [
    {
     "data": {
      "text/plain": [
       "<matplotlib.axes._subplots.AxesSubplot at 0x1c85aade128>"
      ]
     },
     "execution_count": 70,
     "metadata": {},
     "output_type": "execute_result"
    },
    {
     "data": {
      "image/png": "[encoded data removed]",
      "text/plain": [
       "<Figure size 432x288 with 1 Axes>"
      ]
     },
     "metadata": {
      "needs_background": "light"
     },
     "output_type": "display_data"
    }
   ],
   "source": [
    "books1.boxplot()"
   ]
  },
  {
   "cell_type": "markdown",
   "metadata": {},
   "source": [
    "Not good. This is happenning because there are too many outliers in some variables and trying to include those is making our box dissapear. Let's try"
   ]
  },
  {
   "cell_type": "code",
   "execution_count": 71,
   "metadata": {},
   "outputs": [
    {
     "data": {
      "text/plain": [
       "<matplotlib.axes._subplots.AxesSubplot at 0x1c85ab8ce10>"
      ]
     },
     "execution_count": 71,
     "metadata": {},
     "output_type": "execute_result"
    },
    {
     "data": {
      "image/png": "[encoded data removed]",
      "text/plain": [
       "<Figure size 432x288 with 1 Axes>"
      ]
     },
     "metadata": {
      "needs_background": "light"
     },
     "output_type": "display_data"
    }
   ],
   "source": [
    "books1.boxplot(showfliers=False) # We are not showing fliers (outliers)."
   ]
  },
  {
   "cell_type": "markdown",
   "metadata": {},
   "source": [
    "Better. But what's wrong with this?"
   ]
  },
  {
   "cell_type": "markdown",
   "metadata": {},
   "source": [
    "Let's try one at a time.  Fill in the following blank to complete the code that shows one boxplot at a time."
   ]
  },
  {
   "cell_type": "code",
   "execution_count": 78,
   "metadata": {},
   "outputs": [
    {
     "data": {
      "image/png": "[encoded data removed]",
      "text/plain": [
       "<Figure size 432x288 with 1 Axes>"
      ]
     },
     "metadata": {
      "needs_background": "light"
     },
     "output_type": "display_data"
    }
   ],
   "source": [
    "for i in ['book_average_rating']:\n",
    "    mpt.figure()\n",
    "    books1.boxplot(['book_average_rating'], showfliers=False)"
   ]
  },
  {
   "cell_type": "code",
   "execution_count": 80,
   "metadata": {},
   "outputs": [
    {
     "data": {
      "image/png": "[encoded data removed]",
      "text/plain": [
       "<Figure size 432x288 with 1 Axes>"
      ]
     },
     "metadata": {
      "needs_background": "light"
     },
     "output_type": "display_data"
    }
   ],
   "source": [
    "for i in ['num_ratings']:\n",
    "    mpt.figure()\n",
    "    books1.boxplot(['num_ratings'], showfliers=False)"
   ]
  },
  {
   "cell_type": "code",
   "execution_count": 81,
   "metadata": {},
   "outputs": [
    {
     "data": {
      "image/png": "[encoded data removed]",
      "text/plain": [
       "<Figure size 432x288 with 1 Axes>"
      ]
     },
     "metadata": {
      "needs_background": "light"
     },
     "output_type": "display_data"
    }
   ],
   "source": [
    "for i in ['num_reviews']:\n",
    "    mpt.figure()\n",
    "    books1.boxplot(['num_reviews'], showfliers=False)"
   ]
  },
  {
   "cell_type": "code",
   "execution_count": 82,
   "metadata": {},
   "outputs": [
    {
     "data": {
      "image/png": "[encoded data removed]",
      "text/plain": [
       "<Figure size 432x288 with 1 Axes>"
      ]
     },
     "metadata": {
      "needs_background": "light"
     },
     "output_type": "display_data"
    }
   ],
   "source": [
    "for i in ['score']:\n",
    "    mpt.figure()\n",
    "    books1.boxplot(['score'], showfliers=False)"
   ]
  },
  {
   "cell_type": "markdown",
   "metadata": {},
   "source": [
    "Using seaborn"
   ]
  },
  {
   "cell_type": "code",
   "execution_count": 83,
   "metadata": {},
   "outputs": [
    {
     "data": {
      "text/plain": [
       "<matplotlib.axes._subplots.AxesSubplot at 0x1c85b2b4550>"
      ]
     },
     "execution_count": 83,
     "metadata": {},
     "output_type": "execute_result"
    },
    {
     "data": {
      "image/png": "[encoded data removed]",
      "text/plain": [
       "<Figure size 432x288 with 1 Axes>"
      ]
     },
     "metadata": {
      "needs_background": "light"
     },
     "output_type": "display_data"
    }
   ],
   "source": [
    "sbn.boxplot(x=\"variable\", y=\"value\",showfliers=False, data=pd.melt(books1))"
   ]
  },
  {
   "cell_type": "markdown",
   "metadata": {},
   "source": [
    "Again, what doesn't look good about the above graph?  What can we do to fix this problem?"
   ]
  },
  {
   "cell_type": "markdown",
   "metadata": {},
   "source": [
    "The value range for the different variables is too high hence putting all of them in the same graph will lead to some of the variables not being represented properly "
   ]
  },
  {
   "cell_type": "code",
   "execution_count": 84,
   "metadata": {},
   "outputs": [
    {
     "data": {
      "text/plain": [
       "<matplotlib.axes._subplots.AxesSubplot at 0x1c85c75c588>"
      ]
     },
     "execution_count": 84,
     "metadata": {},
     "output_type": "execute_result"
    },
    {
     "data": {
      "image/png": "[encoded data removed]",
      "text/plain": [
       "<Figure size 432x288 with 1 Axes>"
      ]
     },
     "metadata": {
      "needs_background": "light"
     },
     "output_type": "display_data"
    }
   ],
   "source": [
    "sbn.boxplot(data=books1[['score']],showfliers=False)"
   ]
  },
  {
   "cell_type": "code",
   "execution_count": 42,
   "metadata": {},
   "outputs": [
    {
     "data": {
      "text/plain": [
       "<matplotlib.axes._subplots.AxesSubplot at 0x133a0dc1550>"
      ]
     },
     "execution_count": 42,
     "metadata": {},
     "output_type": "execute_result"
    },
    {
     "data": {
      "image/png": "[encoded data removed]",
      "text/plain": [
       "<Figure size 432x288 with 1 Axes>"
      ]
     },
     "metadata": {
      "needs_background": "light"
     },
     "output_type": "display_data"
    }
   ],
   "source": [
    "sbn.boxplot(data=books1[['num_reviews']],showfliers=False)"
   ]
  },
  {
   "cell_type": "code",
   "execution_count": 43,
   "metadata": {},
   "outputs": [
    {
     "data": {
      "text/plain": [
       "<matplotlib.axes._subplots.AxesSubplot at 0x133a05f2c50>"
      ]
     },
     "execution_count": 43,
     "metadata": {},
     "output_type": "execute_result"
    },
    {
     "data": {
      "image/png": "[encoded data removed]",
      "text/plain": [
       "<Figure size 432x288 with 1 Axes>"
      ]
     },
     "metadata": {
      "needs_background": "light"
     },
     "output_type": "display_data"
    }
   ],
   "source": [
    "sbn.boxplot(data=books1[['num_ratings']],showfliers=False)"
   ]
  },
  {
   "cell_type": "code",
   "execution_count": 44,
   "metadata": {},
   "outputs": [
    {
     "data": {
      "text/plain": [
       "<matplotlib.axes._subplots.AxesSubplot at 0x133a064a2e8>"
      ]
     },
     "execution_count": 44,
     "metadata": {},
     "output_type": "execute_result"
    },
    {
     "data": {
      "image/png": "[encoded data removed]",
      "text/plain": [
       "<Figure size 432x288 with 1 Axes>"
      ]
     },
     "metadata": {
      "needs_background": "light"
     },
     "output_type": "display_data"
    }
   ],
   "source": [
    "sbn.boxplot(data=books1[['book_average_rating']],showfliers=False)"
   ]
  },
  {
   "cell_type": "markdown",
   "metadata": {},
   "source": [
    "What does the horizontal black line in the middle of all of these box plots represent?"
   ]
  },
  {
   "cell_type": "markdown",
   "metadata": {},
   "source": [
    "second quartile"
   ]
  }
 ],
 "metadata": {
  "kernelspec": {
   "display_name": "Python 3",
   "language": "python",
   "name": "python3"
  },
  "language_info": {
   "codemirror_mode": {
    "name": "ipython",
    "version": 3
   },
   "file_extension": ".py",
   "mimetype": "text/x-python",
   "name": "python",
   "nbconvert_exporter": "python",
   "pygments_lexer": "ipython3",
   "version": "3.7.3"
  }
 },
 "nbformat": 4,
 "nbformat_minor": 2
}
