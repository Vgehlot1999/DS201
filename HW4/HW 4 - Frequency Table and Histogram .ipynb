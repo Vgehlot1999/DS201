{
 "cells": [
  {
   "cell_type": "markdown",
   "metadata": {},
   "source": [
    "# This homework is due on 9/29 Sunday at 11:59 pm"
   ]
  },
  {
   "cell_type": "markdown",
   "metadata": {},
   "source": [
    "This homework explores frequency table, histogram and some other data analysis tools in pandas. We will be using a csv data set called climbing_statistics. This data set contains Mount Rainer climbing statistics in the year 2015. It has 5 columns. \n",
    "\n",
    "Date: Day of the record\n",
    "\n",
    "Route: The route used to climb the Mt Rainier\n",
    "\n",
    "Attempted: Number of people who attempted the climb\n",
    "\n",
    "Succeeded: Number of people who succeeded in reaching the summit\n",
    "\n",
    "Success Percentage: Percentage of people who succeeded in reaching the summit. \n",
    "\n",
    "More details about this data set is here. https://www.kaggle.com/codersree/mount-rainier-weather-and-climbing-data#climbing_statistics.csv. Before starting this homework, please follow this link and read more about this data set. Also make sure to save it in the same folder as your HW4 solutions inside DS 201 main folder."
   ]
  },
  {
   "cell_type": "markdown",
   "metadata": {},
   "source": [
    "Please import appropriate libraries as usual and load the data."
   ]
  },
  {
   "cell_type": "code",
   "execution_count": 4,
   "metadata": {},
   "outputs": [],
   "source": [
    "import pandas as pd\n",
    "import numpy as np\n",
    "import matplotlib as mpl\n",
    "import matplotlib.pyplot as mpt\n",
    "import seaborn as sbn\n",
    "df = pd.read_csv('climbing_statistics.csv')\n",
    "df['Date'] = pd.to_datetime(df['Date'])# This is to make sure that Date column \n",
    "#is in pandas datetime format."
   ]
  },
  {
   "cell_type": "markdown",
   "metadata": {},
   "source": [
    "### Problem 1\n",
    "Make a frequency table of the variable \"Attempted\". Your anser should look like a data frame with indices ( with no column name), and two other column names \"no_of_climbers\" and \"frequency\". ( 20 points)"
   ]
  },
  {
   "cell_type": "code",
   "execution_count": 5,
   "metadata": {},
   "outputs": [
    {
     "data": {
      "text/html": [
       "<div>\n",
       "<style scoped>\n",
       "    .dataframe tbody tr th:only-of-type {\n",
       "        vertical-align: middle;\n",
       "    }\n",
       "\n",
       "    .dataframe tbody tr th {\n",
       "        vertical-align: top;\n",
       "    }\n",
       "\n",
       "    .dataframe thead th {\n",
       "        text-align: right;\n",
       "    }\n",
       "</style>\n",
       "<table border=\"1\" class=\"dataframe\">\n",
       "  <thead>\n",
       "    <tr style=\"text-align: right;\">\n",
       "      <th></th>\n",
       "      <th>no_of_climbers</th>\n",
       "      <th>frequency</th>\n",
       "    </tr>\n",
       "  </thead>\n",
       "  <tbody>\n",
       "    <tr>\n",
       "      <th>0</th>\n",
       "      <td>2</td>\n",
       "      <td>1274</td>\n",
       "    </tr>\n",
       "    <tr>\n",
       "      <th>1</th>\n",
       "      <td>3</td>\n",
       "      <td>751</td>\n",
       "    </tr>\n",
       "    <tr>\n",
       "      <th>2</th>\n",
       "      <td>12</td>\n",
       "      <td>631</td>\n",
       "    </tr>\n",
       "    <tr>\n",
       "      <th>3</th>\n",
       "      <td>4</td>\n",
       "      <td>460</td>\n",
       "    </tr>\n",
       "    <tr>\n",
       "      <th>4</th>\n",
       "      <td>11</td>\n",
       "      <td>205</td>\n",
       "    </tr>\n",
       "    <tr>\n",
       "      <th>5</th>\n",
       "      <td>5</td>\n",
       "      <td>187</td>\n",
       "    </tr>\n",
       "    <tr>\n",
       "      <th>6</th>\n",
       "      <td>6</td>\n",
       "      <td>171</td>\n",
       "    </tr>\n",
       "    <tr>\n",
       "      <th>7</th>\n",
       "      <td>1</td>\n",
       "      <td>112</td>\n",
       "    </tr>\n",
       "    <tr>\n",
       "      <th>8</th>\n",
       "      <td>8</td>\n",
       "      <td>102</td>\n",
       "    </tr>\n",
       "    <tr>\n",
       "      <th>9</th>\n",
       "      <td>7</td>\n",
       "      <td>73</td>\n",
       "    </tr>\n",
       "    <tr>\n",
       "      <th>10</th>\n",
       "      <td>10</td>\n",
       "      <td>57</td>\n",
       "    </tr>\n",
       "    <tr>\n",
       "      <th>11</th>\n",
       "      <td>9</td>\n",
       "      <td>52</td>\n",
       "    </tr>\n",
       "    <tr>\n",
       "      <th>12</th>\n",
       "      <td>21</td>\n",
       "      <td>1</td>\n",
       "    </tr>\n",
       "    <tr>\n",
       "      <th>13</th>\n",
       "      <td>26</td>\n",
       "      <td>1</td>\n",
       "    </tr>\n",
       "  </tbody>\n",
       "</table>\n",
       "</div>"
      ],
      "text/plain": [
       "    no_of_climbers  frequency\n",
       "0                2       1274\n",
       "1                3        751\n",
       "2               12        631\n",
       "3                4        460\n",
       "4               11        205\n",
       "5                5        187\n",
       "6                6        171\n",
       "7                1        112\n",
       "8                8        102\n",
       "9                7         73\n",
       "10              10         57\n",
       "11               9         52\n",
       "12              21          1\n",
       "13              26          1"
      ]
     },
     "execution_count": 5,
     "metadata": {},
     "output_type": "execute_result"
    }
   ],
   "source": [
    "#Hint: you can use yourdf.columnname.value_counts() to create frequencies for climbers.\n",
    "#But the data won't look like a dataframe. Add  the code .to_frame() in the code at \n",
    "#the end and your output will look like a data frame but it will only \n",
    "# have one column with it's name. Further, add .reset_index(). This will reset index \n",
    "#so you will have 3 columns. Finally, change the column names \"index\" and \"Attempted\" to\n",
    "#suggested\n",
    "\n",
    "df1 = df.Attempted.value_counts().to_frame().reset_index()\n",
    "df1.rename(columns = {'index' : 'no_of_climbers'}, inplace = True)\n",
    "df1.rename(columns = {'Attempted' :'frequency'}, inplace = True)\n",
    "\n",
    "(df1)"
   ]
  },
  {
   "cell_type": "markdown",
   "metadata": {},
   "source": [
    "Read more about resetting index here.\n",
    "\n",
    "https://pandas.pydata.org/pandas-docs/stable/reference/api/pandas.DataFrame.reset_index.html"
   ]
  },
  {
   "cell_type": "markdown",
   "metadata": {},
   "source": [
    "### Problem 2\n",
    "Create a histogram of the column \"Attempted\" from the original data (not the one from problem 1). You can use yourdf.hist(column = 'columnname') to create a histogram. Adjust the bin sizes by adding the code \n",
    "\n",
    "bins $= [0,2,4,6,8,10,12,14]$ at the end to make it look better. The full code will look like \n",
    "\n",
    "yourdf.hist(column = 'columnname', bins $= [0,2,4,6,8,10,12,14]$)    ( 20 points)"
   ]
  },
  {
   "cell_type": "code",
   "execution_count": 6,
   "metadata": {},
   "outputs": [
    {
     "data": {
      "text/plain": [
       "array([[<matplotlib.axes._subplots.AxesSubplot object at 0x0000014116761F60>]],\n",
       "      dtype=object)"
      ]
     },
     "execution_count": 6,
     "metadata": {},
     "output_type": "execute_result"
    },
    {
     "data": {
      "image/png": "[encoded data removed]",
      "text/plain": [
       "<Figure size 432x288 with 1 Axes>"
      ]
     },
     "metadata": {
      "needs_background": "light"
     },
     "output_type": "display_data"
    }
   ],
   "source": [
    "df.hist(column = 'Attempted', bins  =[0,2,4,6,8,10,12,14] )"
   ]
  },
  {
   "cell_type": "markdown",
   "metadata": {},
   "source": [
    "### Problem 3 \n",
    "Use Seaborn to plot the histogram of the columns \"Succeeded\" and \"Success Percentage\". Adjust the bins so that the graphs look better. No codes are given for this part. Read about distplot function in seaborn here for hints.\n",
    "https://seaborn.pydata.org/generated/seaborn.distplot.html ( 20 points)"
   ]
  },
  {
   "cell_type": "code",
   "execution_count": 16,
   "metadata": {},
   "outputs": [
    {
     "data": {
      "image/png": "[encoded data removed]",
      "text/plain": [
       "<Figure size 432x288 with 1 Axes>"
      ]
     },
     "metadata": {},
     "output_type": "display_data"
    }
   ],
   "source": [
    "ax = sbn.distplot(df['Succeeded'], bins = 60)"
   ]
  },
  {
   "cell_type": "code",
   "execution_count": 18,
   "metadata": {},
   "outputs": [
    {
     "data": {
      "image/png": "[encoded data removed]",
      "text/plain": [
       "<Figure size 432x288 with 1 Axes>"
      ]
     },
     "metadata": {},
     "output_type": "display_data"
    }
   ],
   "source": [
    "ay = sbn.distplot(df['Success Percentage'], bins = 50)"
   ]
  },
  {
   "cell_type": "markdown",
   "metadata": {},
   "source": [
    "### Problem 4\n",
    "Create 2 new columns in the data. First, create a column named \"Failed\". Number of climbers who failed to reach the summit is number of climbers who attempted minus who succedded. Second,\n",
    " create a column named \"Fail Percentage\". Fail % is Fail/Attempted * 100. Show the head of the data to make sure that new columns are created. ( 20 points)"
   ]
  },
  {
   "cell_type": "code",
   "execution_count": 19,
   "metadata": {},
   "outputs": [
    {
     "data": {
      "text/html": [
       "<div>\n",
       "<style scoped>\n",
       "    .dataframe tbody tr th:only-of-type {\n",
       "        vertical-align: middle;\n",
       "    }\n",
       "\n",
       "    .dataframe tbody tr th {\n",
       "        vertical-align: top;\n",
       "    }\n",
       "\n",
       "    .dataframe thead th {\n",
       "        text-align: right;\n",
       "    }\n",
       "</style>\n",
       "<table border=\"1\" class=\"dataframe\">\n",
       "  <thead>\n",
       "    <tr style=\"text-align: right;\">\n",
       "      <th></th>\n",
       "      <th>Date</th>\n",
       "      <th>Route</th>\n",
       "      <th>Attempted</th>\n",
       "      <th>Succeeded</th>\n",
       "      <th>Success Percentage</th>\n",
       "      <th>Failed</th>\n",
       "      <th>Fail Percentage</th>\n",
       "    </tr>\n",
       "  </thead>\n",
       "  <tbody>\n",
       "    <tr>\n",
       "      <th>0</th>\n",
       "      <td>2015-11-27</td>\n",
       "      <td>Disappointment Cleaver</td>\n",
       "      <td>2</td>\n",
       "      <td>0</td>\n",
       "      <td>0.0</td>\n",
       "      <td>2</td>\n",
       "      <td>100.0</td>\n",
       "    </tr>\n",
       "    <tr>\n",
       "      <th>1</th>\n",
       "      <td>2015-11-21</td>\n",
       "      <td>Disappointment Cleaver</td>\n",
       "      <td>3</td>\n",
       "      <td>0</td>\n",
       "      <td>0.0</td>\n",
       "      <td>3</td>\n",
       "      <td>100.0</td>\n",
       "    </tr>\n",
       "    <tr>\n",
       "      <th>2</th>\n",
       "      <td>2015-10-15</td>\n",
       "      <td>Disappointment Cleaver</td>\n",
       "      <td>2</td>\n",
       "      <td>0</td>\n",
       "      <td>0.0</td>\n",
       "      <td>2</td>\n",
       "      <td>100.0</td>\n",
       "    </tr>\n",
       "    <tr>\n",
       "      <th>3</th>\n",
       "      <td>2015-10-13</td>\n",
       "      <td>Little Tahoma</td>\n",
       "      <td>8</td>\n",
       "      <td>0</td>\n",
       "      <td>0.0</td>\n",
       "      <td>8</td>\n",
       "      <td>100.0</td>\n",
       "    </tr>\n",
       "    <tr>\n",
       "      <th>4</th>\n",
       "      <td>2015-10-09</td>\n",
       "      <td>Disappointment Cleaver</td>\n",
       "      <td>2</td>\n",
       "      <td>0</td>\n",
       "      <td>0.0</td>\n",
       "      <td>2</td>\n",
       "      <td>100.0</td>\n",
       "    </tr>\n",
       "  </tbody>\n",
       "</table>\n",
       "</div>"
      ],
      "text/plain": [
       "        Date                   Route  Attempted  Succeeded  \\\n",
       "0 2015-11-27  Disappointment Cleaver          2          0   \n",
       "1 2015-11-21  Disappointment Cleaver          3          0   \n",
       "2 2015-10-15  Disappointment Cleaver          2          0   \n",
       "3 2015-10-13           Little Tahoma          8          0   \n",
       "4 2015-10-09  Disappointment Cleaver          2          0   \n",
       "\n",
       "   Success Percentage  Failed  Fail Percentage  \n",
       "0                 0.0       2            100.0  \n",
       "1                 0.0       3            100.0  \n",
       "2                 0.0       2            100.0  \n",
       "3                 0.0       8            100.0  \n",
       "4                 0.0       2            100.0  "
      ]
     },
     "execution_count": 19,
     "metadata": {},
     "output_type": "execute_result"
    }
   ],
   "source": [
    "df['Failed'] =df['Attempted']- df['Succeeded']\n",
    "df['Fail Percentage'] =((df['Failed']/ df['Attempted']) * 100)\n",
    "df.head()"
   ]
  },
  {
   "cell_type": "markdown",
   "metadata": {},
   "source": [
    "# Problem 5\n",
    "Use seaborn to create histograms of two new columns you created in problem 4. ( 20 points)"
   ]
  },
  {
   "cell_type": "code",
   "execution_count": 22,
   "metadata": {},
   "outputs": [
    {
     "data": {
      "image/png": "[encoded data removed]",
      "text/plain": [
       "<Figure size 432x288 with 1 Axes>"
      ]
     },
     "metadata": {},
     "output_type": "display_data"
    }
   ],
   "source": [
    "az = sbn.distplot(df['Failed'], bins = 60)"
   ]
  },
  {
   "cell_type": "code",
   "execution_count": 23,
   "metadata": {},
   "outputs": [
    {
     "data": {
      "image/png": "[encoded data removed]",
      "text/plain": [
       "<Figure size 432x288 with 1 Axes>"
      ]
     },
     "metadata": {},
     "output_type": "display_data"
    }
   ],
   "source": [
    "aw = sbn.distplot(df['Fail Percentage'], bins = 60)"
   ]
  },
  {
   "cell_type": "markdown",
   "metadata": {},
   "source": [
    "### Problem 6 ( Bonus 5+5 points).\n",
    "\n",
    "Part 1. Read more about datetime in pandas here https://pandas.pydata.org/pandas-docs/stable/reference/api/pandas.to_datetime.html and change the date column entries \n",
    "to Year - Month - Day format. For example, 12/31/2015 should change to 2015 - 12- 31.\n",
    "\n",
    "Part 2. Make a frequency table of various entries of the column Route. You should have 3 columns in your answer. One is the index with no column heading, another is Route with its entires as various routes and the third column is Route Freuency. \n"
   ]
  },
  {
   "cell_type": "code",
   "execution_count": null,
   "metadata": {},
   "outputs": [],
   "source": []
  }
 ],
 "metadata": {
  "kernelspec": {
   "display_name": "Python 3",
   "language": "python",
   "name": "python3"
  },
  "language_info": {
   "codemirror_mode": {
    "name": "ipython",
    "version": 3
   },
   "file_extension": ".py",
   "mimetype": "text/x-python",
   "name": "python",
   "nbconvert_exporter": "python",
   "pygments_lexer": "ipython3",
   "version": "3.7.3"
  }
 },
 "nbformat": 4,
 "nbformat_minor": 2
}
